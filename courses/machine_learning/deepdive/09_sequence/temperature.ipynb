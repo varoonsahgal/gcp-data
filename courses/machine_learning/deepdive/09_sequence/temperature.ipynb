{
 "cells": [
  {
   "cell_type": "markdown",
   "metadata": {},
   "source": [
    "# Time-series prediction (temperature from weather stations)\n",
    "\n",
    "Companion to [(Time series prediction, end-to-end)](./sinewaves.ipynb), except on a real dataset."
   ]
  },
  {
   "cell_type": "code",
   "execution_count": 1,
   "metadata": {
    "collapsed": false
   },
   "outputs": [
    {
     "data": {
      "text/html": [
       "\n",
       "          <script src=\"/static/components/requirejs/require.js\"></script>\n",
       "          <script>\n",
       "            requirejs.config({\n",
       "              paths: {\n",
       "                base: '/static/base',\n",
       "              },\n",
       "            });\n",
       "          </script>\n",
       "          "
      ],
      "text/plain": [
       "<IPython.core.display.HTML object>"
      ]
     },
     "metadata": {},
     "output_type": "display_data"
    }
   ],
   "source": [
    "# change these to try this notebook out\n",
    "BUCKET = 'cloud-training-demos-ml'\n",
    "PROJECT = 'cloud-training-demos'\n",
    "REGION = 'us-central1'"
   ]
  },
  {
   "cell_type": "code",
   "execution_count": 2,
   "metadata": {
    "collapsed": false
   },
   "outputs": [
    {
     "data": {
      "text/html": [
       "\n",
       "          <script src=\"/static/components/requirejs/require.js\"></script>\n",
       "          <script>\n",
       "            requirejs.config({\n",
       "              paths: {\n",
       "                base: '/static/base',\n",
       "              },\n",
       "            });\n",
       "          </script>\n",
       "          "
      ],
      "text/plain": [
       "<IPython.core.display.HTML object>"
      ]
     },
     "metadata": {},
     "output_type": "display_data"
    }
   ],
   "source": [
    "import os\n",
    "os.environ['BUCKET'] = BUCKET\n",
    "os.environ['PROJECT'] = PROJECT\n",
    "os.environ['REGION'] = REGION"
   ]
  },
  {
   "cell_type": "code",
   "execution_count": 3,
   "metadata": {
    "collapsed": false
   },
   "outputs": [
    {
     "data": {
      "text/html": [
       "\n",
       "          <script src=\"/static/components/requirejs/require.js\"></script>\n",
       "          <script>\n",
       "            requirejs.config({\n",
       "              paths: {\n",
       "                base: '/static/base',\n",
       "              },\n",
       "            });\n",
       "          </script>\n",
       "          "
      ],
      "text/plain": [
       "<IPython.core.display.HTML object>"
      ]
     },
     "metadata": {},
     "output_type": "display_data"
    }
   ],
   "source": [
    "%%datalab project set -p $PROJECT"
   ]
  },
  {
   "cell_type": "markdown",
   "metadata": {},
   "source": [
    "# Data exploration and cleanup\n",
    "\n",
    "The data are temperature data from US weather stations. This is a public dataset from NOAA."
   ]
  },
  {
   "cell_type": "code",
   "execution_count": 4,
   "metadata": {
    "collapsed": false
   },
   "outputs": [
    {
     "data": {
      "text/html": [
       "\n",
       "          <script src=\"/static/components/requirejs/require.js\"></script>\n",
       "          <script>\n",
       "            requirejs.config({\n",
       "              paths: {\n",
       "                base: '/static/base',\n",
       "              },\n",
       "            });\n",
       "          </script>\n",
       "          "
      ],
      "text/plain": [
       "<IPython.core.display.HTML object>"
      ]
     },
     "metadata": {},
     "output_type": "display_data"
    }
   ],
   "source": [
    "import numpy as np\n",
    "import seaborn as sns\n",
    "import pandas as pd\n",
    "import tensorflow as tf\n",
    "import google.datalab.bigquery as bq\n",
    "from __future__ import print_function"
   ]
  },
  {
   "cell_type": "code",
   "execution_count": 5,
   "metadata": {
    "collapsed": false
   },
   "outputs": [
    {
     "data": {
      "text/html": [
       "\n",
       "          <script src=\"/static/components/requirejs/require.js\"></script>\n",
       "          <script>\n",
       "            requirejs.config({\n",
       "              paths: {\n",
       "                base: '/static/base',\n",
       "              },\n",
       "            });\n",
       "          </script>\n",
       "          "
      ],
      "text/plain": [
       "<IPython.core.display.HTML object>"
      ]
     },
     "metadata": {},
     "output_type": "display_data"
    },
    {
     "data": {
      "text/html": [
       "<div>\n",
       "<table border=\"1\" class=\"dataframe\">\n",
       "  <thead>\n",
       "    <tr style=\"text-align: right;\">\n",
       "      <th></th>\n",
       "      <th>stationid</th>\n",
       "      <th>date</th>\n",
       "      <th>tmin</th>\n",
       "      <th>tmax</th>\n",
       "      <th>is_train</th>\n",
       "    </tr>\n",
       "  </thead>\n",
       "  <tbody>\n",
       "    <tr>\n",
       "      <th>0</th>\n",
       "      <td>USW00003024</td>\n",
       "      <td>2016-03-28</td>\n",
       "      <td>NaN</td>\n",
       "      <td>25.0</td>\n",
       "      <td>True</td>\n",
       "    </tr>\n",
       "    <tr>\n",
       "      <th>1</th>\n",
       "      <td>USW00003028</td>\n",
       "      <td>2016-10-13</td>\n",
       "      <td>NaN</td>\n",
       "      <td>NaN</td>\n",
       "      <td>True</td>\n",
       "    </tr>\n",
       "    <tr>\n",
       "      <th>2</th>\n",
       "      <td>USW00003029</td>\n",
       "      <td>2016-11-08</td>\n",
       "      <td>NaN</td>\n",
       "      <td>16.7</td>\n",
       "      <td>True</td>\n",
       "    </tr>\n",
       "    <tr>\n",
       "      <th>3</th>\n",
       "      <td>USW00003068</td>\n",
       "      <td>2016-07-30</td>\n",
       "      <td>NaN</td>\n",
       "      <td>NaN</td>\n",
       "      <td>False</td>\n",
       "    </tr>\n",
       "    <tr>\n",
       "      <th>4</th>\n",
       "      <td>USW00003068</td>\n",
       "      <td>2016-05-14</td>\n",
       "      <td>NaN</td>\n",
       "      <td>NaN</td>\n",
       "      <td>False</td>\n",
       "    </tr>\n",
       "  </tbody>\n",
       "</table>\n",
       "</div>"
      ],
      "text/plain": [
       "     stationid        date  tmin  tmax is_train\n",
       "0  USW00003024  2016-03-28   NaN  25.0     True\n",
       "1  USW00003028  2016-10-13   NaN   NaN     True\n",
       "2  USW00003029  2016-11-08   NaN  16.7     True\n",
       "3  USW00003068  2016-07-30   NaN   NaN    False\n",
       "4  USW00003068  2016-05-14   NaN   NaN    False"
      ]
     },
     "execution_count": 5,
     "metadata": {},
     "output_type": "execute_result"
    }
   ],
   "source": [
    "def query_to_dataframe(year):\n",
    "  query=\"\"\"\n",
    "SELECT\n",
    "  stationid, date,\n",
    "  MIN(tmin) AS tmin,\n",
    "  MAX(tmax) AS tmax,\n",
    "  IF (MOD(ABS(FARM_FINGERPRINT(stationid)), 10) < 7, True, False) AS is_train\n",
    "FROM (\n",
    "  SELECT\n",
    "    wx.id as stationid,\n",
    "    wx.date as date,\n",
    "    CONCAT(wx.id, \" \", CAST(wx.date AS STRING)) AS recordid,\n",
    "    IF (wx.element = 'TMIN', wx.value/10, NULL) AS tmin,\n",
    "    IF (wx.element = 'TMAX', wx.value/10, NULL) AS tmax\n",
    "  FROM\n",
    "    `bigquery-public-data.ghcn_d.ghcnd_{}` AS wx\n",
    "  WHERE STARTS_WITH(id, 'USW000')\n",
    ")\n",
    "GROUP BY\n",
    "  stationid, date\n",
    "\"\"\".format(year)\n",
    "  df = bq.Query(query).execute().result().to_dataframe()\n",
    "  return df\n",
    "\n",
    "df = query_to_dataframe(2016)\n",
    "df.head()"
   ]
  },
  {
   "cell_type": "code",
   "execution_count": 6,
   "metadata": {
    "collapsed": false
   },
   "outputs": [
    {
     "data": {
      "text/html": [
       "\n",
       "          <script src=\"/static/components/requirejs/require.js\"></script>\n",
       "          <script>\n",
       "            requirejs.config({\n",
       "              paths: {\n",
       "                base: '/static/base',\n",
       "              },\n",
       "            });\n",
       "          </script>\n",
       "          "
      ],
      "text/plain": [
       "<IPython.core.display.HTML object>"
      ]
     },
     "metadata": {},
     "output_type": "display_data"
    },
    {
     "data": {
      "text/html": [
       "<div>\n",
       "<table border=\"1\" class=\"dataframe\">\n",
       "  <thead>\n",
       "    <tr style=\"text-align: right;\">\n",
       "      <th></th>\n",
       "      <th>tmin</th>\n",
       "      <th>tmax</th>\n",
       "    </tr>\n",
       "  </thead>\n",
       "  <tbody>\n",
       "    <tr>\n",
       "      <th>count</th>\n",
       "      <td>408241.000000</td>\n",
       "      <td>408271.000000</td>\n",
       "    </tr>\n",
       "    <tr>\n",
       "      <th>mean</th>\n",
       "      <td>7.679339</td>\n",
       "      <td>19.674030</td>\n",
       "    </tr>\n",
       "    <tr>\n",
       "      <th>std</th>\n",
       "      <td>10.608869</td>\n",
       "      <td>11.435323</td>\n",
       "    </tr>\n",
       "    <tr>\n",
       "      <th>min</th>\n",
       "      <td>-57.700000</td>\n",
       "      <td>-35.500000</td>\n",
       "    </tr>\n",
       "    <tr>\n",
       "      <th>25%</th>\n",
       "      <td>0.400000</td>\n",
       "      <td>12.200000</td>\n",
       "    </tr>\n",
       "    <tr>\n",
       "      <th>50%</th>\n",
       "      <td>8.300000</td>\n",
       "      <td>21.700000</td>\n",
       "    </tr>\n",
       "    <tr>\n",
       "      <th>75%</th>\n",
       "      <td>15.800000</td>\n",
       "      <td>28.900000</td>\n",
       "    </tr>\n",
       "    <tr>\n",
       "      <th>max</th>\n",
       "      <td>37.600000</td>\n",
       "      <td>51.700000</td>\n",
       "    </tr>\n",
       "  </tbody>\n",
       "</table>\n",
       "</div>"
      ],
      "text/plain": [
       "                tmin           tmax\n",
       "count  408241.000000  408271.000000\n",
       "mean        7.679339      19.674030\n",
       "std        10.608869      11.435323\n",
       "min       -57.700000     -35.500000\n",
       "25%         0.400000      12.200000\n",
       "50%         8.300000      21.700000\n",
       "75%        15.800000      28.900000\n",
       "max        37.600000      51.700000"
      ]
     },
     "execution_count": 6,
     "metadata": {},
     "output_type": "execute_result"
    }
   ],
   "source": [
    "df.describe()"
   ]
  },
  {
   "cell_type": "markdown",
   "metadata": {},
   "source": [
    "Unfortunately, there are missing observations on some days."
   ]
  },
  {
   "cell_type": "code",
   "execution_count": 7,
   "metadata": {
    "collapsed": false
   },
   "outputs": [
    {
     "data": {
      "text/html": [
       "\n",
       "          <script src=\"/static/components/requirejs/require.js\"></script>\n",
       "          <script>\n",
       "            requirejs.config({\n",
       "              paths: {\n",
       "                base: '/static/base',\n",
       "              },\n",
       "            });\n",
       "          </script>\n",
       "          "
      ],
      "text/plain": [
       "<IPython.core.display.HTML object>"
      ]
     },
     "metadata": {},
     "output_type": "display_data"
    },
    {
     "data": {
      "text/plain": [
       "stationid        0\n",
       "date             0\n",
       "tmin         11316\n",
       "tmax         11286\n",
       "is_train         0\n",
       "dtype: int64"
      ]
     },
     "execution_count": 7,
     "metadata": {},
     "output_type": "execute_result"
    }
   ],
   "source": [
    "df.isnull().sum()"
   ]
  },
  {
   "cell_type": "markdown",
   "metadata": {},
   "source": [
    "One way to fix this is to do a pivot table and then replace the nulls by filling it with nearest valid neighbor"
   ]
  },
  {
   "cell_type": "code",
   "execution_count": 7,
   "metadata": {
    "collapsed": false
   },
   "outputs": [
    {
     "data": {
      "text/html": [
       "\n",
       "          <script src=\"/static/components/requirejs/require.js\"></script>\n",
       "          <script>\n",
       "            requirejs.config({\n",
       "              paths: {\n",
       "                base: '/static/base',\n",
       "              },\n",
       "            });\n",
       "          </script>\n",
       "          "
      ],
      "text/plain": [
       "<IPython.core.display.HTML object>"
      ]
     },
     "metadata": {},
     "output_type": "display_data"
    }
   ],
   "source": [
    "def cleanup_nulls(df, variablename):\n",
    "  df2 = df.pivot_table(variablename, 'date', 'stationid', fill_value=np.nan)\n",
    "  print('Before: {} null values'.format(df2.isnull().sum().sum()))\n",
    "  df2.fillna(method='ffill', inplace=True)\n",
    "  df2.fillna(method='bfill', inplace=True)\n",
    "  df2.dropna(axis=1, inplace=True)\n",
    "  print('After: {} null values'.format(df2.isnull().sum().sum()))\n",
    "  return df2"
   ]
  },
  {
   "cell_type": "code",
   "execution_count": 9,
   "metadata": {
    "collapsed": false
   },
   "outputs": [
    {
     "data": {
      "text/html": [
       "\n",
       "          <script src=\"/static/components/requirejs/require.js\"></script>\n",
       "          <script>\n",
       "            requirejs.config({\n",
       "              paths: {\n",
       "                base: '/static/base',\n",
       "              },\n",
       "            });\n",
       "          </script>\n",
       "          "
      ],
      "text/plain": [
       "<IPython.core.display.HTML object>"
      ]
     },
     "metadata": {},
     "output_type": "display_data"
    },
    {
     "name": "stdout",
     "output_type": "stream",
     "text": [
      "Before: 14986 null values\n",
      "After: 0 null values\n"
     ]
    }
   ],
   "source": [
    "traindf = cleanup_nulls(df[df['is_train']], 'tmin')"
   ]
  },
  {
   "cell_type": "code",
   "execution_count": 10,
   "metadata": {
    "collapsed": false
   },
   "outputs": [
    {
     "data": {
      "text/html": [
       "\n",
       "          <script src=\"/static/components/requirejs/require.js\"></script>\n",
       "          <script>\n",
       "            requirejs.config({\n",
       "              paths: {\n",
       "                base: '/static/base',\n",
       "              },\n",
       "            });\n",
       "          </script>\n",
       "          "
      ],
      "text/plain": [
       "<IPython.core.display.HTML object>"
      ]
     },
     "metadata": {},
     "output_type": "display_data"
    },
    {
     "data": {
      "text/html": [
       "<div>\n",
       "<table border=\"1\" class=\"dataframe\">\n",
       "  <thead>\n",
       "    <tr style=\"text-align: right;\">\n",
       "      <th>stationid</th>\n",
       "      <th>USW00003016</th>\n",
       "      <th>USW00003017</th>\n",
       "      <th>USW00003024</th>\n",
       "      <th>USW00003026</th>\n",
       "      <th>USW00003028</th>\n",
       "      <th>USW00003029</th>\n",
       "      <th>USW00003030</th>\n",
       "      <th>USW00003031</th>\n",
       "      <th>USW00003032</th>\n",
       "      <th>USW00003048</th>\n",
       "      <th>...</th>\n",
       "      <th>USW00094990</th>\n",
       "      <th>USW00094991</th>\n",
       "      <th>USW00094992</th>\n",
       "      <th>USW00094993</th>\n",
       "      <th>USW00094994</th>\n",
       "      <th>USW00094995</th>\n",
       "      <th>USW00094996</th>\n",
       "      <th>USW00096404</th>\n",
       "      <th>USW00096407</th>\n",
       "      <th>USW00096408</th>\n",
       "    </tr>\n",
       "    <tr>\n",
       "      <th>date</th>\n",
       "      <th></th>\n",
       "      <th></th>\n",
       "      <th></th>\n",
       "      <th></th>\n",
       "      <th></th>\n",
       "      <th></th>\n",
       "      <th></th>\n",
       "      <th></th>\n",
       "      <th></th>\n",
       "      <th></th>\n",
       "      <th></th>\n",
       "      <th></th>\n",
       "      <th></th>\n",
       "      <th></th>\n",
       "      <th></th>\n",
       "      <th></th>\n",
       "      <th></th>\n",
       "      <th></th>\n",
       "      <th></th>\n",
       "      <th></th>\n",
       "      <th></th>\n",
       "    </tr>\n",
       "  </thead>\n",
       "  <tbody>\n",
       "    <tr>\n",
       "      <th>2016-01-01</th>\n",
       "      <td>-22.1</td>\n",
       "      <td>-14.3</td>\n",
       "      <td>-6.6</td>\n",
       "      <td>-14.3</td>\n",
       "      <td>-14.9</td>\n",
       "      <td>-12.7</td>\n",
       "      <td>-9.9</td>\n",
       "      <td>-1.0</td>\n",
       "      <td>4.4</td>\n",
       "      <td>-3.2</td>\n",
       "      <td>...</td>\n",
       "      <td>-7.7</td>\n",
       "      <td>-9.3</td>\n",
       "      <td>-8.2</td>\n",
       "      <td>-8.2</td>\n",
       "      <td>-7.1</td>\n",
       "      <td>-8.9</td>\n",
       "      <td>-9.3</td>\n",
       "      <td>-17.4</td>\n",
       "      <td>-3.0</td>\n",
       "      <td>-7.0</td>\n",
       "    </tr>\n",
       "    <tr>\n",
       "      <th>2016-01-02</th>\n",
       "      <td>-21.0</td>\n",
       "      <td>-8.8</td>\n",
       "      <td>-4.9</td>\n",
       "      <td>-12.7</td>\n",
       "      <td>-10.5</td>\n",
       "      <td>-13.8</td>\n",
       "      <td>-8.2</td>\n",
       "      <td>0.6</td>\n",
       "      <td>3.9</td>\n",
       "      <td>-7.8</td>\n",
       "      <td>...</td>\n",
       "      <td>-6.6</td>\n",
       "      <td>-9.9</td>\n",
       "      <td>-4.9</td>\n",
       "      <td>-8.2</td>\n",
       "      <td>-10.5</td>\n",
       "      <td>-10.2</td>\n",
       "      <td>-7.9</td>\n",
       "      <td>-19.5</td>\n",
       "      <td>-3.0</td>\n",
       "      <td>-7.0</td>\n",
       "    </tr>\n",
       "    <tr>\n",
       "      <th>2016-01-03</th>\n",
       "      <td>-17.1</td>\n",
       "      <td>-9.3</td>\n",
       "      <td>-3.8</td>\n",
       "      <td>-10.5</td>\n",
       "      <td>-8.8</td>\n",
       "      <td>-13.2</td>\n",
       "      <td>-5.5</td>\n",
       "      <td>-1.0</td>\n",
       "      <td>2.2</td>\n",
       "      <td>-10.0</td>\n",
       "      <td>...</td>\n",
       "      <td>-11.0</td>\n",
       "      <td>-7.1</td>\n",
       "      <td>-7.1</td>\n",
       "      <td>-13.2</td>\n",
       "      <td>-10.5</td>\n",
       "      <td>-9.5</td>\n",
       "      <td>-9.5</td>\n",
       "      <td>-16.0</td>\n",
       "      <td>-3.0</td>\n",
       "      <td>-7.0</td>\n",
       "    </tr>\n",
       "    <tr>\n",
       "      <th>2016-01-04</th>\n",
       "      <td>-14.3</td>\n",
       "      <td>-7.7</td>\n",
       "      <td>-5.5</td>\n",
       "      <td>-8.2</td>\n",
       "      <td>-9.3</td>\n",
       "      <td>-7.1</td>\n",
       "      <td>-9.3</td>\n",
       "      <td>-2.1</td>\n",
       "      <td>1.1</td>\n",
       "      <td>-7.9</td>\n",
       "      <td>...</td>\n",
       "      <td>-8.8</td>\n",
       "      <td>-7.1</td>\n",
       "      <td>-9.9</td>\n",
       "      <td>-16.6</td>\n",
       "      <td>-13.2</td>\n",
       "      <td>-8.6</td>\n",
       "      <td>-9.5</td>\n",
       "      <td>-24.0</td>\n",
       "      <td>-3.2</td>\n",
       "      <td>-7.0</td>\n",
       "    </tr>\n",
       "    <tr>\n",
       "      <th>2016-01-05</th>\n",
       "      <td>-11.0</td>\n",
       "      <td>-4.9</td>\n",
       "      <td>-2.1</td>\n",
       "      <td>-7.1</td>\n",
       "      <td>-6.6</td>\n",
       "      <td>-2.7</td>\n",
       "      <td>-3.2</td>\n",
       "      <td>1.1</td>\n",
       "      <td>5.6</td>\n",
       "      <td>-1.1</td>\n",
       "      <td>...</td>\n",
       "      <td>-6.0</td>\n",
       "      <td>-7.7</td>\n",
       "      <td>-2.1</td>\n",
       "      <td>-6.6</td>\n",
       "      <td>-16.0</td>\n",
       "      <td>-7.5</td>\n",
       "      <td>-6.3</td>\n",
       "      <td>-28.0</td>\n",
       "      <td>-3.2</td>\n",
       "      <td>-7.0</td>\n",
       "    </tr>\n",
       "  </tbody>\n",
       "</table>\n",
       "<p>5 rows × 797 columns</p>\n",
       "</div>"
      ],
      "text/plain": [
       "stationid   USW00003016  USW00003017  USW00003024  USW00003026  USW00003028  \\\n",
       "date                                                                          \n",
       "2016-01-01        -22.1        -14.3         -6.6        -14.3        -14.9   \n",
       "2016-01-02        -21.0         -8.8         -4.9        -12.7        -10.5   \n",
       "2016-01-03        -17.1         -9.3         -3.8        -10.5         -8.8   \n",
       "2016-01-04        -14.3         -7.7         -5.5         -8.2         -9.3   \n",
       "2016-01-05        -11.0         -4.9         -2.1         -7.1         -6.6   \n",
       "\n",
       "stationid   USW00003029  USW00003030  USW00003031  USW00003032  USW00003048  \\\n",
       "date                                                                          \n",
       "2016-01-01        -12.7         -9.9         -1.0          4.4         -3.2   \n",
       "2016-01-02        -13.8         -8.2          0.6          3.9         -7.8   \n",
       "2016-01-03        -13.2         -5.5         -1.0          2.2        -10.0   \n",
       "2016-01-04         -7.1         -9.3         -2.1          1.1         -7.9   \n",
       "2016-01-05         -2.7         -3.2          1.1          5.6         -1.1   \n",
       "\n",
       "stationid      ...       USW00094990  USW00094991  USW00094992  USW00094993  \\\n",
       "date           ...                                                            \n",
       "2016-01-01     ...              -7.7         -9.3         -8.2         -8.2   \n",
       "2016-01-02     ...              -6.6         -9.9         -4.9         -8.2   \n",
       "2016-01-03     ...             -11.0         -7.1         -7.1        -13.2   \n",
       "2016-01-04     ...              -8.8         -7.1         -9.9        -16.6   \n",
       "2016-01-05     ...              -6.0         -7.7         -2.1         -6.6   \n",
       "\n",
       "stationid   USW00094994  USW00094995  USW00094996  USW00096404  USW00096407  \\\n",
       "date                                                                          \n",
       "2016-01-01         -7.1         -8.9         -9.3        -17.4         -3.0   \n",
       "2016-01-02        -10.5        -10.2         -7.9        -19.5         -3.0   \n",
       "2016-01-03        -10.5         -9.5         -9.5        -16.0         -3.0   \n",
       "2016-01-04        -13.2         -8.6         -9.5        -24.0         -3.2   \n",
       "2016-01-05        -16.0         -7.5         -6.3        -28.0         -3.2   \n",
       "\n",
       "stationid   USW00096408  \n",
       "date                     \n",
       "2016-01-01         -7.0  \n",
       "2016-01-02         -7.0  \n",
       "2016-01-03         -7.0  \n",
       "2016-01-04         -7.0  \n",
       "2016-01-05         -7.0  \n",
       "\n",
       "[5 rows x 797 columns]"
      ]
     },
     "execution_count": 10,
     "metadata": {},
     "output_type": "execute_result"
    }
   ],
   "source": [
    "traindf.head()"
   ]
  },
  {
   "cell_type": "code",
   "execution_count": 11,
   "metadata": {
    "collapsed": false
   },
   "outputs": [
    {
     "data": {
      "text/html": [
       "\n",
       "          <script src=\"/static/components/requirejs/require.js\"></script>\n",
       "          <script>\n",
       "            requirejs.config({\n",
       "              paths: {\n",
       "                base: '/static/base',\n",
       "              },\n",
       "            });\n",
       "          </script>\n",
       "          "
      ],
      "text/plain": [
       "<IPython.core.display.HTML object>"
      ]
     },
     "metadata": {},
     "output_type": "display_data"
    },
    {
     "name": "stdout",
     "output_type": "stream",
     "text": [
      "366 values in the sequence\n"
     ]
    },
    {
     "data": {
      "image/png": "[encoded data removed]",
      "text/plain": [
       "<matplotlib.figure.Figure at 0x7f5fac1632d0>"
      ]
     },
     "metadata": {},
     "output_type": "display_data"
    }
   ],
   "source": [
    "seq = traindf.iloc[:,0]\n",
    "print('{} values in the sequence'.format(len(seq)))\n",
    "ax = sns.tsplot(seq)\n",
    "ax.set(xlabel='day-number', ylabel='temperature');"
   ]
  },
  {
   "cell_type": "code",
   "execution_count": 13,
   "metadata": {
    "collapsed": false
   },
   "outputs": [
    {
     "data": {
      "text/html": [
       "\n",
       "          <script src=\"/static/components/requirejs/require.js\"></script>\n",
       "          <script>\n",
       "            requirejs.config({\n",
       "              paths: {\n",
       "                base: '/static/base',\n",
       "              },\n",
       "            });\n",
       "          </script>\n",
       "          "
      ],
      "text/plain": [
       "<IPython.core.display.HTML object>"
      ]
     },
     "metadata": {},
     "output_type": "display_data"
    },
    {
     "data": {
      "text/plain": [
       "u'date,-22.1,-21.0,-17.1,-14.3,-11.0,-3.8,-1.6,-8.8,-6.0,-14.3,-18.2,-19.9,-17.7,-18.2,-8.8,-10.5,-11.0,-10.5,-6.0,-9.3,-13.2,-14.9,-14.9,-7.7,-12.1,-17.7,-16.0,-13.8,-8.2,-1.0,-3.8,-7.1,-9.3,-17.7,-21.6,-16.0,-18.2,-15.5,-14.3,-12.7,-11.6,-11.6,-9.9,-7.7,-8.2,-6.0,-5.5,-4.9,-1.0,-6.0,-6.0,-5.5,-4.3,-6.0,-9.9,-7.1,-6.6,-4.3,-2.7,-3.2,-2.7, 0.0,-2.7,-1.0,-1.0, 2.2,-1.6,-3.8,-5.5,-4.9,-2.7, 3.9,-0.5, 4.4,-1.6,-3.8,-4.3,-2.1,-7.1,-8.2,-2.1, 1.7,-0.5,-2.7,-2.1,-7.1,-8.2,-3.8,-3.2,-4.3,-3.2,-5.5,-4.9,-3.8,-1.0,-1.6,-4.3,-1.6, 0.6, 3.9, 2.8, 1.7, 3.3, 2.8, 3.9, 0.6, 2.8, 2.2, 0.6,-2.1, 4.4, 1.1, 2.2, 8.3, 6.1, 2.2, 1.7, 3.3, 3.3, 4.4, 3.3, 1.7, 4.4, 0.6, 2.8, 4.4, 8.3, 5.0, 1.7, 6.7, 6.7, 0.6, 0.6, 2.2, 4.4, 9.4, 5.6, 3.3, 4.4, 5.6,10.6,10.6, 7.2, 1.7, 2.8, 7.2, 3.3, 6.1, 2.2, 3.3, 4.4, 3.3, 5.0, 6.7, 8.3, 8.9,10.0,10.0, 8.9,10.6,10.0,10.6,11.7,10.0, 9.4, 5.6, 8.3,11.7, 8.3, 8.3,10.0,12.2,13.9,15.6,17.2,13.3,12.8, 9.4, 8.9,11.7,16.7,13.9,15.0,15.0,14.4,11.7,16.7,12.2,10.6,11.1,10.6,12.2,12.8, 7.8, 9.4,10.0,10.6,12.2,12.8,17.8,17.8,14.4,15.0,13.9,13.9,17.8,12.8,18.3,12.2,11.7,12.2,13.3,15.0,12.8,12.8,13.3,17.8,16.1,15.6,11.7,15.0,13.9,13.9,12.8, 8.9, 8.3, 7.8, 9.4,12.8,12.2,12.8,10.0,10.6, 7.8,12.8,10.0,10.6, 8.3, 8.3, 8.9,10.6,10.0, 8.3,11.7,13.3,15.0,13.3,12.8, 9.4, 6.1, 6.7, 5.6, 6.7, 3.9, 5.6, 9.4, 7.2,10.0, 5.6, 3.9, 3.9, 3.3, 5.6, 7.8,13.9,11.1, 6.1, 6.1, 3.3, 3.3, 4.4, 6.1,10.6, 9.4, 6.1, 7.2, 2.8, 1.7,-0.5, 1.1,-2.1,-1.6, 1.7, 1.7, 6.1, 3.9, 2.8, 2.2, 7.2,10.0, 7.2, 3.9,-0.5,-3.8,-3.8,-1.6, 1.1, 1.1, 5.0, 2.8, 2.2, 3.9, 7.8, 7.2, 7.2, 4.4, 1.7,-1.6,-0.5, 4.4, 3.3, 0.0,-1.6,-2.1,-2.7,-2.7,-1.6,-2.1,-3.2,-3.8,-0.5,-3.2,-8.8,-9.3,-0.5, 5.0,-1.6,-4.9,-4.3,-8.8,-8.8,-1.0,-3.2,-8.2,-11.0,-7.1,-6.0,-8.8,-12.1,-4.9,-8.8,-13.2,-15.5,-5.5,-6.6,-3.2,-3.2,-5.5,-2.1,-2.1,-1.0,-13.2,-13.8,-16.6,-12.7,-7.7,-3.2,-1.6,-6.6,-2.7,-9.9,-13.8,-6.0,-9.9,-11.0,-9.3'"
      ]
     },
     "execution_count": 13,
     "metadata": {},
     "output_type": "execute_result"
    }
   ],
   "source": [
    "seq.to_string(index=False).replace('\\n', ',')"
   ]
  },
  {
   "cell_type": "code",
   "execution_count": null,
   "metadata": {
    "collapsed": false
   },
   "outputs": [],
   "source": [
    "# Save the data to disk in such a way that each time series is on a single line\n",
    "# save to sharded files, one for each year\n",
    "# This takes about 15 minutes\n",
    "import shutil, os\n",
    "shutil.rmtree('data/temperature', ignore_errors=True)\n",
    "os.makedirs('data/temperature')\n",
    "\n",
    "def to_csv(indf, filename):\n",
    "  df = cleanup_nulls(indf, 'tmin')\n",
    "  print('Writing {} sequences to {}'.format(len(df.columns), filename))\n",
    "  with open(filename, 'w') as ofp:\n",
    "    for i in xrange(0, len(df.columns)):\n",
    "      if i%10 == 0:\n",
    "        print('{}'.format(i), end='...')\n",
    "      seq = df.iloc[:365,i]  # chop to 365 days to avoid leap-year problems ...\n",
    "      line = seq.to_string(index=False, header=False).replace('\\n', ',')\n",
    "      ofp.write(line + '\\n')\n",
    "    print('Done')\n",
    "\n",
    "for year in xrange(2000, 2017):\n",
    "  print('Querying data for {} ... hang on'.format(year))\n",
    "  df = query_to_dataframe(year)\n",
    "  to_csv(df[df['is_train']], 'data/temperature/train-{}.csv'.format(year))\n",
    "  to_csv(df[~df['is_train']], 'data/temperature/eval-{}.csv'.format(year))"
   ]
  },
  {
   "cell_type": "code",
   "execution_count": null,
   "metadata": {
    "collapsed": false
   },
   "outputs": [],
   "source": [
    "%bash\n",
    "head -1 data/temperature/eval-2004.csv | tr ',' ' ' | wc\n",
    "head -1 data/temperature/eval-2005.csv | tr ',' ' ' | wc\n",
    "wc -l data/temperature/train*.csv\n",
    "wc -l data/temperature/eval*.csv"
   ]
  },
  {
   "cell_type": "code",
   "execution_count": null,
   "metadata": {
    "collapsed": false
   },
   "outputs": [],
   "source": [
    "%bash\n",
    "gsutil -m rm -rf gs://${BUCKET}/temperature/*\n",
    "gsutil -m cp data/temperature/*.csv gs://${BUCKET}/temperature"
   ]
  },
  {
   "cell_type": "markdown",
   "metadata": {},
   "source": [
    "Our CSV file sequences consist of 365 values. For training, each instance's 0~364 numbers are inputs, and 365th is truth."
   ]
  },
  {
   "cell_type": "markdown",
   "metadata": {},
   "source": [
    "# Model\n",
    "\n",
    "This is the same model as [(Time series prediction, end-to-end)](./sinewaves.ipynb)\n"
   ]
  },
  {
   "cell_type": "code",
   "execution_count": null,
   "metadata": {
    "collapsed": false
   },
   "outputs": [],
   "source": [
    "%bash\n",
    "#for MODEL in dnn; do\n",
    "for MODEL in cnn dnn lstm lstm2 lstmN; do\n",
    "  OUTDIR=gs://${BUCKET}/temperature/$MODEL\n",
    "  JOBNAME=temperature_${MODEL}_$(date -u +%y%m%d_%H%M%S)\n",
    "  REGION=us-central1\n",
    "  gsutil -m rm -rf $OUTDIR\n",
    "  gcloud ml-engine jobs submit training $JOBNAME \\\n",
    "     --region=$REGION \\\n",
    "     --module-name=trainer.task \\\n",
    "     --package-path=${PWD}/sinemodel/trainer \\\n",
    "     --job-dir=$OUTDIR \\\n",
    "     --staging-bucket=gs://$BUCKET \\\n",
    "     --scale-tier=BASIC_GPU \\\n",
    "     --runtime-version=1.2 \\\n",
    "     -- \\\n",
    "     --train_data_paths=\"gs://${BUCKET}/temperature/train*.csv\" \\\n",
    "     --eval_data_paths=\"gs://${BUCKET}/temperature/eval*.csv\"  \\\n",
    "     --output_dir=$OUTDIR \\\n",
    "     --train_steps=5000 --sequence_length=365 --model=$MODEL\n",
    "done"
   ]
  },
  {
   "cell_type": "markdown",
   "metadata": {},
   "source": [
    "## Results\n",
    "\n",
    "When I ran it, these were the RMSEs that I got for different models:\n",
    "\n",
    "| Model | # of steps | Minutes | RMSE |\n",
    "| --- | ----| --- | --- | --- |\n",
    "| dnn | 5000 | 19 min | 9.82 |\n",
    "| cnn | 5000 | 22 min | 6.68 |\n",
    "| lstm | 5000 | 41 min | 3.15 |\n",
    "| lstm2 | 5000 | 107 min | 3.91 |\n",
    "| lstmN | 5000 | 107 min | 11.5 |\n",
    "\n",
    "As you can see, on real-world time-series data, LSTMs can really shine, but the highly tuned version for the synthetic data doesn't work as well on a similiar, but different problem. Instead, we'll probably have to retune ...\n",
    "\n",
    "<p>\n",
    "## Next steps\n",
    "This is likely not the best way to formulate this problem. A better method to work with this data would be to pull out arbitrary, shorter sequences (say of length 20) from the input sequences. This would be akin to image augmentation in that we would get arbitrary subsets, and would allow us to predict the sequence based on just the last 20 values instead of requiring a whole year.  It would also avoid the problem that currently, we are training only for Dec. 30/31.\n",
    "\n",
    "Feature engineering would also help. For example, we might also add a climatological average (average temperature at this location over the last 10 years on this date) as one of the inputs. I'll leave both these improvements as exercises for the reader :)"
   ]
  },
  {
   "cell_type": "markdown",
   "metadata": {},
   "source": [
    "Copyright 2017 Google Inc. Licensed under the Apache License, Version 2.0 (the \\\"License\\\"); you may not use this file except in compliance with the License. You may obtain a copy of the License at http://www.apache.org/licenses/LICENSE-2.0 Unless required by applicable law or agreed to in writing, software distributed under the License is distributed on an \\\"AS IS\\\" BASIS, WITHOUT WARRANTIES OR CONDITIONS OF ANY KIND, either express or implied. See the License for the specific language governing permissions and limitations under the License"
   ]
  },
  {
   "cell_type": "code",
   "execution_count": null,
   "metadata": {
    "collapsed": true
   },
   "outputs": [],
   "source": []
  }
 ],
 "metadata": {
  "kernelspec": {
   "display_name": "Python 2",
   "language": "python",
   "name": "python2"
  },
  "language_info": {
   "codemirror_mode": {
    "name": "ipython",
    "version": 2
   },
   "file_extension": ".py",
   "mimetype": "text/x-python",
   "name": "python",
   "nbconvert_exporter": "python",
   "pygments_lexer": "ipython2",
   "version": "2.7.12"
  }
 },
 "nbformat": 4,
 "nbformat_minor": 2
}
